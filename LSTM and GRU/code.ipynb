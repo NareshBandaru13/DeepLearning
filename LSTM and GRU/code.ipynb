{
 "cells": [
  {
   "cell_type": "code",
   "execution_count": 1,
   "id": "da093b7e",
   "metadata": {},
   "outputs": [],
   "source": [
    "#importing libraries\n",
    "import torch\n",
    "import torch.nn as nn\n",
    "import torch.optim as optim\n",
    "import matplotlib.pyplot as plt"
   ]
  },
  {
   "cell_type": "markdown",
   "id": "90981d4a",
   "metadata": {},
   "source": [
    "# Data Creation"
   ]
  },
  {
   "cell_type": "code",
   "execution_count": 2,
   "id": "794f9885",
   "metadata": {},
   "outputs": [
    {
     "name": "stdout",
     "output_type": "stream",
     "text": [
      "tensor([[0.8201, 0.0090, 0.4231, 0.0384, 0.3069, 0.7420, 0.0100, 0.6517],\n",
      "        [0.0000, 0.0000, 1.0000, 0.0000, 0.0000, 0.0000, 1.0000, 0.0000]])\n",
      "tensor([[0.4332]])\n"
     ]
    }
   ],
   "source": [
    "input_data = []\n",
    "output_data = []\n",
    "data_size = 5000\n",
    "sample_size = torch.randint(2,10,(data_size,))\n",
    "for i in range(data_size):\n",
    "    layer1 = torch.rand(sample_size[i])\n",
    "    layer2 = torch.zeros(sample_size[i])\n",
    "    indices = torch.randperm(sample_size[i])[:2]\n",
    "    layer2[indices] = 1\n",
    "    input_data.append(torch.stack((layer1,layer2)))\n",
    "    output_data.append(torch.tensor([[layer1[indices].sum()]]))\n",
    "print(input_data[69])\n",
    "print(output_data[69])"
   ]
  },
  {
   "cell_type": "markdown",
   "id": "4fdb5c77",
   "metadata": {},
   "source": [
    "# Elmon RNN"
   ]
  },
  {
   "cell_type": "code",
   "execution_count": 3,
   "id": "c16fc61e",
   "metadata": {},
   "outputs": [
    {
     "name": "stdout",
     "output_type": "stream",
     "text": [
      "[0.15079014473741403, 0.11515709107233292, 0.09260467070265961, 0.07854920548273925, 0.08093885165242554, 0.07484314246748433, 0.07443653247971545, 0.07192892494777199, 0.09107189139738829, 0.08088820781532932]\n"
     ]
    }
   ],
   "source": [
    "#This function trains the parametres involved in elmon rnn and gives average loss over dataset during each epoch of training.\n",
    "#Here the dimension of middle layer is 3.\n",
    "def train_elmon(X,Y,epochs):\n",
    "    W_hh = torch.randn(3,3,requires_grad = True,dtype = torch.float)\n",
    "    W_hx = torch.randn(3,2,requires_grad = True,dtype = torch.float)\n",
    "    b_h = torch.randn(3,1,requires_grad = True,dtype = torch.float)\n",
    "    W_yh = torch.randn(1,3,requires_grad = True,dtype = torch.float)\n",
    "    b_y = torch.randn(1,1,requires_grad = True,dtype = torch.float)\n",
    "    optimiser = optim.SGD([W_hh,W_hx,b_h,W_yh,b_y],lr = 0.01)\n",
    "    loss_fn = nn.MSELoss()\n",
    "    loss_list = []\n",
    "    for i in range(epochs):\n",
    "        avg_loss = 0\n",
    "        for j in range(len(X)):\n",
    "            \n",
    "            #forward-feed\n",
    "            H = torch.zeros(3,1)\n",
    "            for k in range(len(X[j][0])):\n",
    "                H = torch.tanh(W_hh@H + W_hx@X[j][:,k].unsqueeze(1) + b_h)\n",
    "            predict = W_yh@H + b_y\n",
    "            \n",
    "            loss = loss_fn(predict,Y[j])\n",
    "            optimiser.zero_grad()\n",
    "            loss.backward()\n",
    "            optimiser.step()\n",
    "            avg_loss = avg_loss + (loss.item()/len(X))\n",
    "        loss_list.append(avg_loss)\n",
    "        if(avg_loss<0.0001):\n",
    "            break\n",
    "    return loss_list\n",
    "elmon_list = train_elmon(input_data,output_data,10)\n",
    "print(elmon_list)"
   ]
  },
  {
   "cell_type": "markdown",
   "id": "1be06e69",
   "metadata": {},
   "source": [
    "# LSTM"
   ]
  },
  {
   "cell_type": "code",
   "execution_count": 4,
   "id": "0ec784aa",
   "metadata": {},
   "outputs": [
    {
     "name": "stdout",
     "output_type": "stream",
     "text": [
      "[0.13854675814785244, 0.06703141177900303, 0.017718003221302337, 0.009162117675792916, 0.006718177451032914, 0.00544838617663239, 0.004645301751212095, 0.004085262052966543, 0.003667199743722123, 0.003339630576625557]\n"
     ]
    }
   ],
   "source": [
    "#This function trains the parametres involved in LSTM and gives average loss over dataset during each epoch of training.\n",
    "#Here the dimension of middle layer is 5.\n",
    "def train_lstm(X,Y,epochs):\n",
    "    W_f = torch.randn(5,7,requires_grad = True,dtype = torch.float)\n",
    "    b_f = torch.zeros(5,1,requires_grad = True,dtype = torch.float)\n",
    "    W_i = torch.randn(5,7,requires_grad = True,dtype = torch.float)\n",
    "    b_i = torch.zeros(5,1,requires_grad = True,dtype = torch.float)\n",
    "    W_C = torch.randn(5,7,requires_grad = True,dtype = torch.float)\n",
    "    b_C = torch.zeros(5,1,requires_grad = True,dtype = torch.float)\n",
    "    W_o = torch.randn(5,7,requires_grad = True,dtype = torch.float)\n",
    "    b_o = torch.zeros(5,1,requires_grad = True,dtype = torch.float)\n",
    "    W_yh = torch.randn(1,5,requires_grad = True,dtype = torch.float)\n",
    "    b_y = torch.zeros(1,1,requires_grad = True,dtype = torch.float)\n",
    "    optimiser = optim.SGD([W_f,b_f,W_i,b_i,W_C,b_C,W_o,b_o,W_yh,b_y],lr = 0.01)\n",
    "    loss_fn = nn.MSELoss()\n",
    "    loss_list = []\n",
    "    for i in range(epochs):\n",
    "        avg_loss = 0\n",
    "        for j in range(len(X)):\n",
    "            \n",
    "            #forward-feed\n",
    "            H = torch.zeros(5,1)\n",
    "            C = torch.zeros(5,1)\n",
    "            for k in range(len(X[j][0])):\n",
    "                hx = torch.cat((H,X[j][:,k].unsqueeze(1)))\n",
    "                f_t = torch.sigmoid(W_f@hx + b_f)\n",
    "                i_t = torch.sigmoid(W_i@hx + b_i)\n",
    "                can_c = torch.tanh(W_C@hx + b_C)\n",
    "                C = torch.mul(f_t,C) + torch.mul(i_t,can_c)\n",
    "                o_t = torch.sigmoid(W_o@hx + b_o)\n",
    "                H = torch.mul(o_t,torch.tanh(C))\n",
    "            predict = W_yh@H + b_y\n",
    "            \n",
    "            loss = loss_fn(predict,Y[j])\n",
    "            optimiser.zero_grad()\n",
    "            loss.backward()\n",
    "            optimiser.step()\n",
    "            avg_loss = avg_loss + (loss.item()/len(X))\n",
    "        loss_list.append(avg_loss)\n",
    "        if(avg_loss<0.0001):\n",
    "            break\n",
    "    return loss_list\n",
    "lstm_list = train_lstm(input_data,output_data,10)\n",
    "print(lstm_list)"
   ]
  },
  {
   "cell_type": "markdown",
   "id": "c721e4b4",
   "metadata": {},
   "source": [
    "# GRU"
   ]
  },
  {
   "cell_type": "code",
   "execution_count": 5,
   "id": "ccd7f522",
   "metadata": {},
   "outputs": [
    {
     "name": "stdout",
     "output_type": "stream",
     "text": [
      "[0.14607724168997369, 0.05757521110988042, 0.030704517742383662, 0.02212973367358317, 0.01823098769754275, 0.01574192767511251, 0.013870131300701406, 0.01236083668285311, 0.011104390598112872, 0.010040868181774559]\n"
     ]
    }
   ],
   "source": [
    "#This function trains the parametres involved in GRU and gives average loss over dataset during each epoch of training.\n",
    "#Here the dimension of middle layer is 3.\n",
    "def train_gru(X,Y,epochs):\n",
    "    W_r = torch.randn(5,5,requires_grad = True,dtype = torch.float)\n",
    "    b_r = torch.randn(5,1,requires_grad = True,dtype = torch.float)\n",
    "    W_z = torch.randn(3,5,requires_grad = True,dtype = torch.float)\n",
    "    b_z = torch.randn(3,1,requires_grad = True,dtype = torch.float)\n",
    "    W = torch.randn(3,5,requires_grad = True,dtype = torch.float)\n",
    "    b = torch.randn(3,1,requires_grad = True,dtype = torch.float)\n",
    "    W_yh = torch.randn(1,3,requires_grad = True,dtype = torch.float)\n",
    "    b_y = torch.randn(1,1,requires_grad = True,dtype = torch.float)\n",
    "    optimiser = optim.SGD([W_r,b_r,W_z,b_z,W,b,W_yh,b_y],lr = 0.01)\n",
    "    loss_fn = nn.MSELoss()\n",
    "    loss_list = []\n",
    "    for i in range(epochs):\n",
    "        avg_loss = 0\n",
    "        for j in range(len(X)):\n",
    "            \n",
    "            #forward-feed\n",
    "            H = torch.zeros(3,1)\n",
    "            for k in range(len(X[j][0])):\n",
    "                hx = torch.cat((H,X[j][:,k].unsqueeze(1)))\n",
    "                z_t = torch.sigmoid(W_z@hx + b_z)\n",
    "                r_t = torch.sigmoid(W_r@hx + b_r)\n",
    "                can_H = torch.tanh(W@(torch.mul(r_t,hx)) + b)\n",
    "                H = torch.mul(1-z_t,H) + torch.mul(z_t,can_H)\n",
    "            predict = W_yh@H + b_y\n",
    "            \n",
    "            loss = loss_fn(predict,Y[j])\n",
    "            optimiser.zero_grad()\n",
    "            loss.backward()\n",
    "            optimiser.step()\n",
    "            avg_loss = avg_loss + (loss.item()/len(X))\n",
    "        loss_list.append(avg_loss)\n",
    "        if(avg_loss<0.0001):\n",
    "            break\n",
    "    return loss_list\n",
    "gru_list = train_gru(input_data,output_data,10)\n",
    "print(gru_list)"
   ]
  },
  {
   "cell_type": "markdown",
   "id": "324f18fb",
   "metadata": {},
   "source": [
    "# Baseline"
   ]
  },
  {
   "cell_type": "code",
   "execution_count": 6,
   "id": "351b5b1a",
   "metadata": {},
   "outputs": [
    {
     "name": "stdout",
     "output_type": "stream",
     "text": [
      "[0.16583144622633433, 0.16583144622633433, 0.16583144622633433, 0.16583144622633433, 0.16583144622633433, 0.16583144622633433, 0.16583144622633433, 0.16583144622633433, 0.16583144622633433, 0.16583144622633433]\n"
     ]
    }
   ],
   "source": [
    "#calculating loss of model which always predicts 1\n",
    "base_loss = 0\n",
    "for i in range(len(input_data)):\n",
    "    loss_fn = nn.MSELoss()\n",
    "    predict = torch.tensor([[1]])\n",
    "    loss = loss_fn(predict,output_data[i])\n",
    "    base_loss = base_loss + (loss.item()/len(input_data))\n",
    "base_list = []\n",
    "x_list = []\n",
    "for i in range(10):\n",
    "    base_list.append(base_loss)\n",
    "    x_list.append(i+1)\n",
    "print(base_list)"
   ]
  },
  {
   "cell_type": "markdown",
   "id": "22e414ac",
   "metadata": {},
   "source": [
    "# Comparison"
   ]
  },
  {
   "cell_type": "code",
   "execution_count": 7,
   "id": "85893ad6",
   "metadata": {},
   "outputs": [
    {
     "data": {
      "image/png": "[encoded data removed]",
      "text/plain": [
       "<Figure size 640x480 with 1 Axes>"
      ]
     },
     "metadata": {},
     "output_type": "display_data"
    }
   ],
   "source": [
    "plt.figure()\n",
    "plt.plot(x_list,base_list,label = \"Baseline loss\")\n",
    "plt.plot(x_list,elmon_list,label = \"Elmon loss\")\n",
    "plt.plot(x_list,lstm_list,label = \"LSTM loss\")\n",
    "plt.plot(x_list,gru_list,label = \"GRU loss\")\n",
    "plt.title('Comparison of Losses')\n",
    "plt.xlabel('Epoch Number')\n",
    "plt.ylabel('Loss at Epoch')\n",
    "plt.legend()\n",
    "plt.show()"
   ]
  }
 ],
 "metadata": {
  "kernelspec": {
   "display_name": "Python 3 (ipykernel)",
   "language": "python",
   "name": "python3"
  },
  "language_info": {
   "codemirror_mode": {
    "name": "ipython",
    "version": 3
   },
   "file_extension": ".py",
   "mimetype": "text/x-python",
   "name": "python",
   "nbconvert_exporter": "python",
   "pygments_lexer": "ipython3",
   "version": "3.10.2"
  }
 },
 "nbformat": 4,
 "nbformat_minor": 5
}
